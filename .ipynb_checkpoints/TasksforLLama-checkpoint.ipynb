{
 "cells": [
  {
   "cell_type": "markdown",
   "id": "69d5768d-d081-447a-a652-ea8978ba795f",
   "metadata": {},
   "source": [
    "<h1>Below are several tasks designed to take 5 - 20 minutes total</h1>"
   ]
  },
  {
   "cell_type": "markdown",
   "id": "901a50c4-f6c9-4e5e-a4f1-39fc6c50fe48",
   "metadata": {},
   "source": [
    "NOTE: the below Tasks do not need to be done with the **most beatiful** coding practices, just attempt the tasks with to pass the tests :)"
   ]
  },
  {
   "cell_type": "markdown",
   "id": "54b2b0eb-81d3-41c7-823b-598b08f6ae3a",
   "metadata": {},
   "source": [
    "<h1>Task 1</h1>"
   ]
  },
  {
   "cell_type": "markdown",
   "id": "49573cea-390d-468c-9f3b-88a7fb91111e",
   "metadata": {},
   "source": [
    "1. Create a for loop that increases the count of `numCounts` when the number is even and a mutliple of 7 up to 200"
   ]
  },
  {
   "cell_type": "code",
   "execution_count": 37,
   "id": "3d535941-428a-442b-9035-f062fde30fdc",
   "metadata": {},
   "outputs": [
    {
     "name": "stdout",
     "output_type": "stream",
     "text": [
      "Even number divisible by 7: 14\n",
      "Even number divisible by 7: 28\n",
      "Even number divisible by 7: 42\n",
      "Even number divisible by 7: 56\n",
      "Even number divisible by 7: 70\n",
      "Even number divisible by 7: 84\n",
      "Even number divisible by 7: 98\n",
      "Even number divisible by 7: 112\n",
      "Even number divisible by 7: 126\n",
      "Even number divisible by 7: 140\n",
      "Even number divisible by 7: 154\n",
      "Even number divisible by 7: 168\n",
      "Even number divisible by 7: 182\n",
      "Even number divisible by 7: 196\n"
     ]
    }
   ],
   "source": [
    "# Create a for loop for counting the amount of even numbers divisible by 7 in 0-200\n",
    "\n",
    "# Increase numCounts when the cirtieria is met\n",
    "numCounts = 0; \n",
    "\n",
    "# For loop below\n",
    "# (actually from the chat bot with adding even number revision) \n",
    "for i in range(1, 200):\n",
    "    if ((i % 7 == 0) & (i % 2 == 0)):\n",
    "        print(f\"Even number divisible by 7: {i}\")\n",
    "        numCounts = numCounts + 1 \n"
   ]
  },
  {
   "cell_type": "markdown",
   "id": "84fe9aea-a03d-4744-846a-b7c5bcc9f251",
   "metadata": {},
   "source": [
    "<h3>Unit Test: Task 1</h3>"
   ]
  },
  {
   "cell_type": "code",
   "execution_count": 38,
   "id": "7ef64fe9-bb3e-4502-adee-b92687e0eeb5",
   "metadata": {
    "scrolled": true
   },
   "outputs": [
    {
     "name": "stdout",
     "output_type": "stream",
     "text": [
      "Task 1 CORRECT\n"
     ]
    }
   ],
   "source": [
    "if (numCounts == 14):\n",
    "    print(\"Task 1 CORRECT\")\n",
    "else: \n",
    "    print(\"Task 1 INCORRECT\")\n",
    "    print(\"Current output:\", numCounts)\n",
    "    print(\"Should be 14\")"
   ]
  },
  {
   "cell_type": "markdown",
   "id": "1a62d059-3f01-4238-a569-3d865954bb2d",
   "metadata": {},
   "source": [
    "<h1>Task 2</h1>"
   ]
  },
  {
   "cell_type": "markdown",
   "id": "26e421d0-1949-47be-8f30-913a3096a935",
   "metadata": {},
   "source": [
    "2. Create a class named `Student`, use the __init__() function to assign values for name, ID, and age."
   ]
  },
  {
   "cell_type": "code",
   "execution_count": 99,
   "id": "3c77f319-b292-4afe-800c-e10321ec8b75",
   "metadata": {},
   "outputs": [],
   "source": [
    "# With the below Student class\n",
    "class Student:\n",
    "# use the init() function to assign values for name, ID, and age.\n",
    "    def __init__(self, name, id, age):\n",
    "        self.name = name\n",
    "        self.id = id\n",
    "        self.age = age"
   ]
  },
  {
   "cell_type": "markdown",
   "id": "f733bfdd-d4e7-49a1-b5df-fd437e09243d",
   "metadata": {},
   "source": [
    "<h3>Unit Test: Task 2</h3>"
   ]
  },
  {
   "cell_type": "code",
   "execution_count": 100,
   "id": "b6fdc00f-229b-4a15-b905-3ee8e76c245d",
   "metadata": {},
   "outputs": [
    {
     "name": "stdout",
     "output_type": "stream",
     "text": [
      "Student's name: John\n",
      "Student's ID: 123\n",
      "Student's age: 25\n"
     ]
    }
   ],
   "source": [
    "# Test for a Student object\n",
    "student = Student(\"John\", 123, 25)\n",
    "print(\"Student's name:\", student.name)\n",
    "print(\"Student's ID:\",student.id)\n",
    "print(\"Student's age:\",student.age)"
   ]
  },
  {
   "cell_type": "markdown",
   "id": "9996f425-fbf5-488d-b4ec-2e2a4a3f7157",
   "metadata": {},
   "source": [
    "<h1>Task 3</h1>"
   ]
  },
  {
   "cell_type": "markdown",
   "id": "5f5a98a6-438c-4054-905b-45b7e3e5b9c1",
   "metadata": {},
   "source": [
    "3. Create a function that takes an integer and sqaures it, but **only** when the number is a perfect sqaure up to the number 150\n",
    "\n",
    "Ex. `4`,`16`,`36`,`100`, and `144` are a perfect squares"
   ]
  },
  {
   "cell_type": "code",
   "execution_count": 102,
   "id": "c223c3ef-fcde-4ceb-acfd-54aa2b728662",
   "metadata": {},
   "outputs": [],
   "source": [
    "# The math class may prove to be helpful for checking square roots:\n",
    "import math\n",
    "\n",
    "# Helpful examples:\n",
    "# math.sqrt(4) == 2 \n",
    "# pow(4,2) == 16\n",
    "# int(4.355555) == 4\n",
    "\n",
    "# Appends a variable to a list:\n",
    "# double_squared.append(varToAppend) "
   ]
  },
  {
   "cell_type": "code",
   "execution_count": null,
   "id": "c5ed745e-703d-4c1e-8524-bce7c8102308",
   "metadata": {},
   "outputs": [],
   "source": [
    "# Below is the function:\n",
    "def isPerfectSquare(x):\n",
    "    squared = int(math.sqrt(x))\n",
    "    retVal = pow(squared,2) \n",
    "    if(pow(squared,2) == x):\n",
    "        # print(x)\n",
    "        return pow(x,2)\n",
    "    else:\n",
    "        return 0\n",
    "\n",
    "double_squared = []\n",
    "\n",
    "# Function should only take perfect squares and return the sqaured number and add it to a list\n",
    "for i in range(0,110,1):\n",
    "    var = isPerfectSquare(i)\n",
    "    if (var == 0):\n",
    "        continue\n",
    "    else:\n",
    "        double_squared.append(var)\n"
   ]
  },
  {
   "cell_type": "markdown",
   "id": "5dffabcf-35eb-49bc-b9eb-24b0cd372ba9",
   "metadata": {},
   "source": [
    "<h3>Unit Test: Task 3</h3>"
   ]
  },
  {
   "cell_type": "code",
   "execution_count": 103,
   "id": "091252a9-fa77-4018-8927-c96c1b2a91b5",
   "metadata": {},
   "outputs": [
    {
     "name": "stdout",
     "output_type": "stream",
     "text": [
      "Task 3 CORRECT\n"
     ]
    }
   ],
   "source": [
    "if(double_squared == [1, 16, 81, 256, 625, 1296, 2401, 4096, 6561, 10000]):\n",
    "    print(\"Task 3 CORRECT\")\n",
    "else: \n",
    "    print(\"Task 3 INCORRECT\")\n",
    "    print(\"Current output:\", double_squared)\n",
    "    print(\"Should be [1, 16, 81, 256, 625, 1296, 2401, 4096, 6561, 10000]\")    "
   ]
  },
  {
   "cell_type": "markdown",
   "id": "8adb6e8a-25a4-4ae9-a4b6-4df1b9aa25d6",
   "metadata": {},
   "source": [
    "<h1>Task 4</h1>"
   ]
  },
  {
   "cell_type": "markdown",
   "id": "ca660317-52a6-4f55-9c84-570487284c8e",
   "metadata": {},
   "source": [
    "4. Write an if else: "
   ]
  },
  {
   "cell_type": "code",
   "execution_count": null,
   "id": "8ae8a439-0fe7-49b7-b996-dce96de12393",
   "metadata": {},
   "outputs": [],
   "source": []
  },
  {
   "cell_type": "markdown",
   "id": "3b02f3b0-ca4e-4633-a718-6253d1f50725",
   "metadata": {},
   "source": [
    "<h3>Unit Test: Task 4</h3>"
   ]
  }
 ],
 "metadata": {
  "kernelspec": {
   "display_name": "Python 3.9.10 64-bit",
   "language": "python",
   "name": "python3"
  },
  "language_info": {
   "codemirror_mode": {
    "name": "ipython",
    "version": 3
   },
   "file_extension": ".py",
   "mimetype": "text/x-python",
   "name": "python",
   "nbconvert_exporter": "python",
   "pygments_lexer": "ipython3",
   "version": "3.9.10"
  },
  "vscode": {
   "interpreter": {
    "hash": "aee8b7b246df8f9039afb4144a1f6fd8d2ca17a180786b69acc140d282b71a49"
   }
  }
 },
 "nbformat": 4,
 "nbformat_minor": 5
}
